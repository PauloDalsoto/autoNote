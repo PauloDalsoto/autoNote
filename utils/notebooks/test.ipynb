{
 "cells": [
  {
   "cell_type": "code",
   "execution_count": 2,
   "metadata": {},
   "outputs": [],
   "source": [
    "import win32com.client\n"
   ]
  },
  {
   "cell_type": "code",
   "execution_count": null,
   "metadata": {},
   "outputs": [
    {
     "name": "stdout",
     "output_type": "stream",
     "text": [
      "Conexões abertas no SAP Logon:\n",
      "[0] Conexão: con[0], Servidor: Servidor não identificado\n",
      "[1] Conexão: con[1], Servidor: Servidor não identificado\n"
     ]
    }
   ],
   "source": [
    "import win32com.client\n",
    "\n",
    "try:\n",
    "    # Conectar ao SAP GUI\n",
    "    SapGuiAuto = win32com.client.GetObject(\"SAPGUI\")\n",
    "    if not SapGuiAuto:\n",
    "        print(\"Não foi possível conectar ao SAP GUI.\")\n",
    "        exit()\n",
    "\n",
    "    application = SapGuiAuto.GetScriptingEngine\n",
    "\n",
    "    # Listar todas as conexões abertas\n",
    "    connections = application.Children\n",
    "    if len(connections) == 0:\n",
    "        print(\"Nenhuma conexão SAP ativa encontrada.\")\n",
    "        exit()\n",
    "\n",
    "    print(\"Conexões abertas no SAP Logon:\")\n",
    "    for i, connection in enumerate(connections):\n",
    "        try:\n",
    "            server = connection.info.System  # Nome do sistema ou servidor\n",
    "        except AttributeError:\n",
    "            server = \"Servidor não identificado\"\n",
    "        print(f\"[{i}] Conexão: {connection.Name}, Servidor: {server}\")\n",
    "\n",
    "    # Escolher a conexão desejada\n",
    "    connection_index = int(input(\"Escolha o número da conexão desejada: \"))\n",
    "    connection = connections[connection_index]\n",
    "\n",
    "    # Listar sessões ativas dentro da conexão\n",
    "    sessions = connection.Children\n",
    "    if len(sessions) == 0:\n",
    "        print(\"Nenhuma sessão ativa encontrada para esta conexão.\")\n",
    "        exit()\n",
    "\n",
    "    print(\"\\nSessões ativas na conexão:\")\n",
    "    for i, session in enumerate(sessions):\n",
    "        print(f\"[{i}] Sessão {i}\")\n",
    "\n",
    "    # Escolher a sessão desejada\n",
    "    session_index = int(input(\"Escolha o número da sessão desejada: \"))\n",
    "    session = sessions[session_index]\n",
    "\n",
    "    # Navegar para a transação SNOTE\n",
    "    session.findById(\"wnd[0]/tbar[0]/okcd\").text = \"SNOTE\"\n",
    "    session.findById(\"wnd[0]/tbar[0]/btn[0]\").press()  # Pressionar Enter\n",
    "\n",
    "    print(\"Transação SNOTE aberta com sucesso!\")\n",
    "\n",
    "except Exception as e:\n",
    "    print(f\"Erro ao executar o script: {e}\")\n"
   ]
  }
 ],
 "metadata": {
  "kernelspec": {
   "display_name": ".venv",
   "language": "python",
   "name": "python3"
  },
  "language_info": {
   "codemirror_mode": {
    "name": "ipython",
    "version": 3
   },
   "file_extension": ".py",
   "mimetype": "text/x-python",
   "name": "python",
   "nbconvert_exporter": "python",
   "pygments_lexer": "ipython3",
   "version": "3.12.4"
  }
 },
 "nbformat": 4,
 "nbformat_minor": 2
}
